{
 "cells": [
  {
   "cell_type": "markdown",
   "metadata": {},
   "source": [
    "# Dynamic Programming\n",
    "\n",
    "## Purpose\n",
    "\n",
    "The simplest way to think about dynamic programming, \"DP\", is nothing more than as an approach to optimize an algorithm:\n",
    "\n",
    "1.  Find an algorithm that \"brute forces\" a problem\n",
    "2.  Notice that it fits into the the class of algorithms DP can optimize\n",
    "3.  Implement algorithm using DP\n",
    "\n",
    "Dynamic programming does **not** have anything to do with on-the-fly code generation, online reinforcement learning, editing/optimizing compiled code while it's running... or anything else fancy.  So what does it do?  Read on!\n",
    "\n",
    "## Approach\n",
    "\n",
    "It boils down to a simple idea:  _don't let your code do the same work twice_.  In practice, this means that you should cache intermediate results (say, in a table).  Each time you need to evaluate a function with the same input after the first, you can look up the result in the cache rather than recomputing it.\n",
    "\n",
    "You will sometimes hear DP is used for problems whose solutions are combinations of the solutions to \"optimal subproblems\".  Unpacking this a little bit:  if each solution is just a combination of smaller versions of the same problem, and you cache the results of the smaller problems as you go, to the extent that you need those solutions in more than one place, you'll get a speed up.  For many problems, an exponential time naive implementation can be made to run in polynomial time.\n",
    "\n",
    "**Don't let this sound complicated to you.**  All we're doing is adding a cache to avoid recomputing an \"expensive\" function.  Any time you see a problem that sounds like, \"Try every possible combination of X and pick the best\", you should think \"I wonder if there are any partial results here we can cache and reuse\".\n",
    "\n",
    "## Why is this important for natural language processing?\n",
    "\n",
    "In the second half of the course, we'll study tasks where the desired output is a sequence, a tree, or another type of rich structure. Unlike simple classification problems, we can't easily enumerate all the possible outputs - because there are exponentially many!\n",
    "\n",
    "In many such tasks, we can still decompose them into sub-problems, like predicting a single branch of a tree. Then by using dynamic programming, we can devise an efficient algorithm to find the highest-scoring solution. We'll make heavy use of this approach when we study parsing (week 9-10) and sequence labeling tasks like part-of-speech tagging (week 7-8).\n",
    "\n",
    "Dynamic programming is also useful as a conceptual tool. Decomposing a large problem into subproblems can be as useful for us as for computers, since it lets us reason about small, controlled cases and extend them into a more complex solution. Dynamic programming is also closely related to recursion - a concept underlying many fundamental ideas in both computer science and linguistics."
   ]
  },
  {
   "cell_type": "markdown",
   "metadata": {},
   "source": [
    "## Example: Climbing the stairs\n",
    "\n",
    "Let's say you want to compute the total number of ways you can run up a flight of stairs.  At each step $k$ you can either:\n",
    "\n",
    "- Take a regular step up to $k + 1$\n",
    "- Take a big step up to $k + 2$.\n",
    "\n",
    "Starting on stair $0$ (the bottom floor), how many unique ways are there to get up a staircase with $n$ stairs?\n",
    "\n",
    "If you've not encountered this kind of problem before, **spend a minute pondering** how you might compute this.  It's common to feel \"lost\" in the combinatorial explosion of options.\n",
    "\n",
    "### Hint\n",
    "\n",
    "Could you figure out the number of ways up a staircase of height $n$ if you were told how many ways you might get up staircases of height $n - 1$ and $n - 2$?  That is, if you knew the solution to a _subproblem_, could you use that to compute the solution to your real problem?\n",
    "\n",
    "### Further Hint\n",
    "\n",
    "Say you can get to the second-to-the-top stair in 8 ways (and then take a big step) and the next-to-the-top stair in 13 ways (and then take a small step).  How many ways to the top?  8 + 13 = 21.  (Note that you don't have to count \"get to second-to-the-top and take two regular steps\" separately because the \"13\" already includes them.)\n",
    "\n",
    "### Solution\n",
    "\n",
    "In general, if there are $ways(n - 1)$ to get to the $n - 1$ stair, you can use any of those methods to get there and then take a regular step to get to stair $n$.  Similarly, if you have $ways(n - 2)$ to get to the $n - 2$ step and then take a big step to stair $n$.  There is no other way to get to stair $n$ except by one of those two sets of options.  There is no overlap between those sets of sequences as sequences in the first set always end in a \"regular\" step and those sequences in the second set always end in a \"big\" step.\n",
    "\n",
    "In math, $ways(n) = ways(n-1) + ways(n-2)$.\n",
    "\n",
    "Also notice (imagine, or draw a picture), $ways(1) = 1$ and $ways(2) = 2$.\n",
    "\n",
    "*Aside: you may recognize this as the famous [Fibonacci series](https://en.wikipedia.org/wiki/Fibonacci_number).*\n",
    "\n",
    "The next cell shows one implementation."
   ]
  },
  {
   "cell_type": "code",
   "execution_count": 1,
   "metadata": {},
   "outputs": [
    {
     "data": {
      "text/plain": [
       "5"
      ]
     },
     "execution_count": 1,
     "metadata": {},
     "output_type": "execute_result"
    }
   ],
   "source": [
    "def naive_ways(n):\n",
    "    \"\"\"Return the ways up a staircase of length n. Uses a naive algorithm.\"\"\"\n",
    "    if n == 1:\n",
    "        return 1\n",
    "    if n == 2:\n",
    "        return 2\n",
    "    \n",
    "    return naive_ways(n - 1) + naive_ways(n - 2)\n",
    "\n",
    "naive_ways(4)"
   ]
  },
  {
   "cell_type": "markdown",
   "metadata": {},
   "source": [
    "**Great!**\n",
    "\n",
    "Unfortunately, this implementation gets very slow for large $n$. The cell below will print some timing information."
   ]
  },
  {
   "cell_type": "code",
   "execution_count": 17,
   "metadata": {},
   "outputs": [
    {
     "name": "stdout",
     "output_type": "stream",
     "text": [
      "n=20: \n",
      "2.8 ms ± 810 µs per loop (mean ± std. dev. of 7 runs, 25 loops each)\n",
      "n=21: \n",
      "3.89 ms ± 530 µs per loop (mean ± std. dev. of 7 runs, 25 loops each)\n",
      "n=22: \n",
      "5.77 ms ± 167 µs per loop (mean ± std. dev. of 7 runs, 25 loops each)\n",
      "n=23: \n",
      "9.75 ms ± 1.26 ms per loop (mean ± std. dev. of 7 runs, 25 loops each)\n",
      "n=24: \n",
      "16.2 ms ± 1.68 ms per loop (mean ± std. dev. of 7 runs, 25 loops each)\n",
      "n=25: \n",
      "28.7 ms ± 3.38 ms per loop (mean ± std. dev. of 7 runs, 25 loops each)\n"
     ]
    }
   ],
   "source": [
    "# TIMING INFO FOR PART A\n",
    "time_list = []\n",
    "for n in range(20, 25+1):\n",
    "    print(\"n=%d: \" % n),\n",
    "    %timeit -n25 naive_ways(n)"
   ]
  },
  {
   "cell_type": "code",
   "execution_count": 3,
   "metadata": {},
   "outputs": [
    {
     "name": "stdout",
     "output_type": "stream",
     "text": [
      "3.76 s ± 480 ms per loop (mean ± std. dev. of 7 runs, 1 loop each)\n"
     ]
    }
   ],
   "source": [
    "# Try with slightly-larger n.\n",
    "%timeit -n1 naive_ways(35)"
   ]
  },
  {
   "cell_type": "code",
   "execution_count": 18,
   "metadata": {},
   "outputs": [
    {
     "name": "stdout",
     "output_type": "stream",
     "text": [
      "On average, ways(n) is 1.6 times slower than ways(n−1) in the #TIMING INFO FOR PART A cell above\n"
     ]
    }
   ],
   "source": [
    "# Work for question A1\n",
    "import numpy as np\n",
    "a1_list = [2.8, 3.89, 5.77, 9.75, 16.2, 28.7]\n",
    "\n",
    "itr = 1\n",
    "slower_list = []\n",
    "while itr < len(a1_list):\n",
    "    slower_list.append(a1_list[itr] / a1_list[itr - 1])\n",
    "    itr += 1\n",
    "\n",
    "answer_a1 = np.asarray(slower_list).mean()\n",
    "print(\"On average, ways(n) is {} times slower than ways(n−1) in the #TIMING INFO FOR PART A cell above\".format(round(answer_a1, 2)))"
   ]
  },
  {
   "cell_type": "code",
   "execution_count": 19,
   "metadata": {},
   "outputs": [
    {
     "name": "stdout",
     "output_type": "stream",
     "text": [
      "n=3 {1: 1, 2: 1, 3: 1}\n",
      "n=4 {1: 1, 2: 2, 3: 1, 4: 1}\n",
      "n=5 {1: 2, 2: 3, 3: 2, 4: 1, 5: 1}\n",
      "n=6 {1: 3, 2: 5, 3: 3, 4: 2, 5: 1, 6: 1}\n",
      "n=7 {1: 5, 2: 8, 3: 5, 4: 3, 5: 2, 6: 1, 7: 1}\n",
      "n=8 {1: 8, 2: 13, 3: 8, 4: 5, 5: 3, 6: 2, 7: 1, 8: 1}\n",
      "n=9 {1: 13, 2: 21, 3: 13, 4: 8, 5: 5, 6: 3, 7: 2, 8: 1, 9: 1}\n",
      "n=25 {1: 28657, 2: 46368, 3: 28657, 4: 17711, 5: 10946, 6: 6765, 7: 4181, 8: 2584, 9: 1597, 10: 987, 11: 610, 12: 377, 13: 233, 14: 144, 15: 89, 16: 55, 17: 34, 18: 21, 19: 13, 20: 8, 21: 5, 22: 3, 23: 2, 24: 1, 25: 1}\n"
     ]
    }
   ],
   "source": [
    "# Work for question A2\n",
    "from collections import Counter\n",
    "from collections import OrderedDict\n",
    "\n",
    "class SortedDisplayDict(dict):\n",
    "   def __str__(self):\n",
    "       return \"{\" + \", \".join(\"%r: %r\" % (key, self[key]) for key in sorted(self)) + \"}\"\n",
    "\n",
    "def naive_ways_show_recusion(n, a):\n",
    "    \"\"\"Return the ways up a staircase of length n. Uses a naive algorithm.\"\"\"\n",
    "    if n == 1:\n",
    "#         print(1)\n",
    "        return 1\n",
    "    if n == 2:\n",
    "#         print(2)\n",
    "        return 2\n",
    "    if len(a) == 0:\n",
    "        a.append(n)\n",
    "    a.append(n-1)\n",
    "    a.append(n-2)\n",
    "#     print(\"call function\", n-1, \"call function\", n-2)\n",
    "    return naive_ways_show_recusion(n - 1, a) + naive_ways_show_recusion(n - 2, a)\n",
    "\n",
    "a_3 = []\n",
    "naive_ways_show_recusion(3, a_3)\n",
    "print(\"n=3\", SortedDisplayDict(Counter(a_3)))\n",
    "\n",
    "a_4 = []\n",
    "naive_ways_show_recusion(4, a_4)\n",
    "print(\"n=4\", SortedDisplayDict(Counter(a_4)))\n",
    "\n",
    "a_5 = []\n",
    "naive_ways_show_recusion(5, a_5)\n",
    "print(\"n=5\", SortedDisplayDict(Counter(a_5)))\n",
    "\n",
    "a_6 = []\n",
    "naive_ways_show_recusion(6, a_6)\n",
    "print(\"n=6\", SortedDisplayDict(Counter(a_6)))\n",
    "\n",
    "a_7 = []\n",
    "naive_ways_show_recusion(7, a_7)\n",
    "print(\"n=7\", SortedDisplayDict(Counter(a_7)))\n",
    "\n",
    "a_8 = []\n",
    "naive_ways_show_recusion(8, a_8)\n",
    "print(\"n=8\", SortedDisplayDict(Counter(a_8)))\n",
    "\n",
    "a_9 = []\n",
    "naive_ways_show_recusion(9, a_9)\n",
    "print(\"n=9\", SortedDisplayDict(Counter(a_9)))\n",
    "\n",
    "a_25 = []\n",
    "naive_ways_show_recusion(25, a_25)\n",
    "print(\"n=25\", SortedDisplayDict(Counter(a_25)))"
   ]
  },
  {
   "cell_type": "markdown",
   "metadata": {},
   "source": [
    "If we try to handle a staircase with 100 steps, it'll take a _very_ long time with our naive implementation.  (If you decide to try it, you'll want to interrupt your kernel instead of wait for the result!)"
   ]
  },
  {
   "cell_type": "markdown",
   "metadata": {},
   "source": [
    "## A. Short Answer Questions\n",
    "\n",
    "Give *brief* answers to the following in the cell below.\n",
    "\n",
    "1. Based on the timing numbers from the `# TIMING INFO FOR PART A` cell above, approximately how much slower is $ways(n)$ than $ways(n-1)$? (i.e. what is $\\frac{time(ways(n))}{time(ways(n-1))}$, roughly?)\n",
    "\n",
    "2.  Why is this so slow?  What calculations do we compute repeatedly?  Hint: consider the following diagram.\n",
    "![DP diagram](dp.png)\n",
    "\n",
    "3. **Food for thought (not graded):** Assuming that $time(ways(n)) = time(ways(n-1)) + time(ways(n-2))$, what is $\\lim_{n\\to\\infty} \\frac{time(ways(n))}{time(ways(n-1))}$?"
   ]
  },
  {
   "cell_type": "markdown",
   "metadata": {},
   "source": [
    " A. Answers\n",
    "1.  About 1.6 times slower\n",
    "2.  If you are calling any whole number over n>3, you will be duplicating calls to recursive steps. If you look at the # Work for question A2 tab above, I run a bunch of naive_ways(n) functions with n: 3, 4, 5, 6, 7, 8, 9, and 25. What I do in those functions is append all of the recursive (n-1) and (n-2) that the naive_ways(n) calls within itself and aggregate the count on all the calls which are shown below in a dictionary (keys are step values, values are count of recursive call) and n= is the n value in the naive_ways(n) function:\n",
    "\n",
    "n=3 {1: 1, 2: 1, 3: 1}\n",
    "\n",
    "n=4 {1: 1, 2: 2, 3: 1, 4: 1}\n",
    "\n",
    "n=5 {1: 2, 2: 3, 3: 2, 4: 1, 5: 1}\n",
    "\n",
    "n=6 {1: 3, 2: 5, 3: 3, 4: 2, 5: 1, 6: 1}\n",
    "\n",
    "n=7 {1: 5, 2: 8, 3: 5, 4: 3, 5: 2, 6: 1, 7: 1}\n",
    "\n",
    "n=8 {1: 8, 2: 13, 3: 8, 4: 5, 5: 3, 6: 2, 7: 1, 8: 1}\n",
    "\n",
    "n=9 {1: 13, 2: 21, 3: 13, 4: 8, 5: 5, 6: 3, 7: 2, 8: 1, 9: 1}\n",
    "\n",
    "n=25 {1: 28657, 2: 46368, 3: 28657, 4: 17711, 5: 10946, 6: 6765, 7: 4181, 8: 2584, 9: 1597, 10: 987, 11: 610, 12: 377, 13: 233, 14: 144, 15: 89, 16: 55, 17: 34, 18: 21, 19: 13, 20: 8, 21: 5, 22: 3, 23: 2, 24: 1, 25: 1}\n",
    "\n",
    "As you can see (for n>3), n and n-1 are called only once, but then after that n-2 and smaller (n-3, n-4, n-5....n-n+1) is recursivly called more than once and (n-3 and below) will be called more and more the larger the n input is for the naive_ways(n) function. This is because you are looping through all tree splits and redoing work that is already done. Lets take naive_ways(6) example. First this is the tree with looping through each branch and solving it (inefficient way):\n",
    "\n",
    "![INEFFICIENT diagram](ineffcient_tree_solve.png)\n",
    "\n",
    "And now lets look at what you could do if you used cache information to solve the tree:\n",
    "\n",
    "![EFFICIENT diagram](effcient_tree_solve.png)\n",
    "\n",
    "Efficiently all you need to do is solve for the right tree branch and save the values at each recursive n level.\n",
    "\n",
    "Right branch side starting at bottom going up:\n",
    "solve for:\n",
    "\n",
    "** note n(2) = 2 and n(1) = 1\n",
    "\n",
    "n(3) = n(2) + n(1) --> SOLVED\n",
    "\n",
    "*plug into higher level\n",
    "\n",
    "n(4) = n(3) + n(2) --> SOLVED\n",
    "\n",
    "So now we have answers for n(1), n(2), n(3), n(4)\n",
    "\n",
    "Go to the left branch and start at the bottom:\n",
    "\n",
    "n(4) and n(3) --> already solved and in cache\n",
    "\n",
    "n(5) = n(4) + n(3) --> solved\n",
    "\n",
    "So now we have answers for n(1), n(2), n(3), n(4), and n(5).\n",
    "\n",
    "Plug into the top level:\n",
    "\n",
    "n(6) = n(5) + n(4) --> solved\n",
    "\n",
    "We only calculated had to take the left branh down as far as the right branch top layer because all the values are already calculated and saved, so no need to loop through every branch of the tree to solve the problem.\n",
    "\n",
    "\n",
    "3.  lim (n->inf) (n / n-1)\n",
    "    \n",
    "    **note: n = (n - 1) + (n - 2)\n",
    "    \n",
    "    = ((n - 1) + (n - 2)) / (n - 1) \n",
    "    \n",
    "    = 1 + (n-2) / (n-1)\n",
    "    \n",
    "    n-1 / n-2 ~ 1.6  <-- solved in A1 above\n",
    "    \n",
    "    = 1 + (~1.6)^(-1)\n",
    "    \n",
    "    ~= 1.625\n",
    "    \n",
    "\n"
   ]
  },
  {
   "cell_type": "markdown",
   "metadata": {},
   "source": [
    "## Apply Dynamic Programming\n",
    "\n",
    "Let's see if we can compute the results more cleverly, by keeping a cache (or table) of intermediate results that we can re-use.\n",
    "\n",
    "First answer the following questions, then use what you gleaned to examine the code.\n",
    "\n",
    "### B. Short Answer Questions\n",
    "1. What are the values of A, B, and C in this table?\n",
    "<html><table>\n",
    "<tr><td>n</td><td>ways(n)</td></tr>\n",
    "<tr><td>1</td><td>1</td></tr>\n",
    "<tr><td>2</td><td>2</td></tr>\n",
    "<tr><td>3</td><td>3</td></tr>\n",
    "<tr><td>4</td><td>5</td></tr>\n",
    "<tr><td>5</td><td>8</td></tr>\n",
    "<tr><td>6</td><td>13</td></tr>\n",
    "<tr><td>7</td><td>$A$</td></tr>\n",
    "<tr><td>8</td><td>$B$</td></tr>\n",
    "<tr><td>9</td><td>$C$</td></tr>\n",
    "</table>\n",
    "</html>\n",
    "<p>\n",
    "2. To compute these values, did you look at $n=4$ or earlier?\n",
    "<p>\n",
    "3. What is the minimum number of values you need to keep as you fill the table from top to bottom, while maintaining the DP property of not recomputing any values?  \n",
    "<p>"
   ]
  },
  {
   "cell_type": "markdown",
   "metadata": {},
   "source": [
    "### B. Answers\n",
    "\n",
    "- 1A = 13 + 8 = 21\n",
    "- 1B = 21 + 13 = 34\n",
    "- 1C = 34 + 21 = 55\n",
    "- 2 = No, no need to look at 4 or earlier to compute n = {7, 8, 9}. \n",
    "\n",
    "I solved:\n",
    "\n",
    "(n=7) = (n=6) + (n=5)\n",
    "\n",
    "(n=8) = (n=7) + (n=6)\n",
    "\n",
    "(n=9) = (n=8) + (n=7)\n",
    "- 3 = 2 values is the minimum needed. With the recursion f(n) = f(n-1) + f(n-2) and if you keep building up the table:\n",
    "\n",
    "f(3) = f(2) + f(1)  --> keep f(3) and f(2) to calcultate f(4)\n",
    "\n",
    "f(4) = f(3) + f(2)  --> keep f(4) and f(3) to calcultate f(5)\n",
    "\n",
    "...\n",
    "\n",
    "f(8) = f(7) + f(6)  --> finally keep f(8) and f(7) to calculate the last f(9)\n",
    "\n",
    "f(9) = f(8) + f(7)"
   ]
  },
  {
   "cell_type": "code",
   "execution_count": 6,
   "metadata": {},
   "outputs": [
    {
     "name": "stdout",
     "output_type": "stream",
     "text": [
      "Wall time: 0 ns\n"
     ]
    },
    {
     "data": {
      "text/plain": [
       "573147844013817084101"
      ]
     },
     "execution_count": 6,
     "metadata": {},
     "output_type": "execute_result"
    }
   ],
   "source": [
    "def dynamic_programming_ways(n):\n",
    "    \"\"\"Return the ways up a staircase of length n.\"\"\"\n",
    "    #  Initialize the cache to the answer for staircases of length one (1 way) and two (2 ways).\n",
    "    cache = [1, 2]\n",
    "    \n",
    "    # Extend the cache, reusing the results we already have in the cache.\n",
    "    # (For the mathematically inclined, you may see some\n",
    "    #  parallels between DP and proof by induction.)\n",
    "    for i in range(n - 2):\n",
    "        cache.append(cache[i] + cache[i + 1])\n",
    "    # We've extended the cache far enough that we can look up staircase of length n.\n",
    "    # (Note that all the indices are one lower than the staircase, right from the\n",
    "    #  time of initialization, hence the -1.)\n",
    "    return cache[n - 1]\n",
    "\n",
    "assert dynamic_programming_ways(1) == 1\n",
    "assert dynamic_programming_ways(2) == 2\n",
    "assert dynamic_programming_ways(100) == 573147844013817084101\n",
    "\n",
    "%time dynamic_programming_ways(100)"
   ]
  },
  {
   "cell_type": "markdown",
   "metadata": {},
   "source": [
    "We can tweak things a little bit to reduce the memory footprint.  As seen in the short answer questions and in the code, you only need `cache[i-2]` and `cache[i-1]` to compute `cache[i]`.  Keeping earlier results from the cache are a bit of a waste."
   ]
  },
  {
   "cell_type": "code",
   "execution_count": 7,
   "metadata": {},
   "outputs": [
    {
     "name": "stdout",
     "output_type": "stream",
     "text": [
      "Wall time: 0 ns\n"
     ]
    },
    {
     "data": {
      "text/plain": [
       "573147844013817084101"
      ]
     },
     "execution_count": 7,
     "metadata": {},
     "output_type": "execute_result"
    }
   ],
   "source": [
    "def dynamic_programming_ways_efficient(n):\n",
    "    \"\"\"Return the ways up a staircase of length n.\"\"\"\n",
    "    #  Initialize the cache to the answer for staircases of length one (1 way) and two (2 ways).\n",
    "    #  (We need to do some special casing here for n=1.  We could avoid this by initializing\n",
    "    #   cache_i_1 == 1 as well and changing the for loop to be range(n-1).  Think about why...)\n",
    "    if n == 1:\n",
    "        return 1\n",
    "    \n",
    "    cache_i_2 = 1\n",
    "    cache_i_1 = 2\n",
    "    \n",
    "    # Extend the cache, reusing the results we already have in the cache.\n",
    "    # (For the mathematically inclined, you'll be excused if you see some\n",
    "    #  parallels between DP and proof by induction.)\n",
    "    for i in range(n - 2):\n",
    "        new_value = cache_i_1 + cache_i_2\n",
    "        cache_i_2 = cache_i_1\n",
    "        cache_i_1 = new_value\n",
    "        \n",
    "    # We've extended the cache far enough that we can look up staircase of length n.\n",
    "    # (Note that all the indices are one lower than the staircase, right from the\n",
    "    #  time of initialization, hence the -1.)\n",
    "    return cache_i_1\n",
    "\n",
    "assert dynamic_programming_ways_efficient(1) == 1\n",
    "assert dynamic_programming_ways_efficient(2) == 2\n",
    "assert dynamic_programming_ways_efficient(100) == 573147844013817084101\n",
    "\n",
    "%time dynamic_programming_ways_efficient(100)"
   ]
  },
  {
   "cell_type": "markdown",
   "metadata": {},
   "source": [
    "## Pipe cutting\n",
    "\n",
    "Another problem suceptible to optimization with DP is pipe cutting.  Here, we are given a metal pipe of length $n$ and a price list, the price at which you can sell various parts of the pipe.  For the purposes of this exercise, let's write the code as though different parts of the pipe could yield different amounts of money, even if they're the same length.  Our objective is to cut the pipe into pieces such that they fetch the most revenue.\n",
    "\n",
    "Similar to the stairs, we're going to slowly build a table up mapping the length of bars to the profit to be had.  If I have a bar of length 1, what's the most profitable way of cutting it up?  What about length 2?  Length 3? etc.  By keeping these intermediate results around, when we try cutting a length 10 pipe in one place, we can efficiently determine the profit made by optimally cutting the resulting left and right subpieces up.\n",
    "\n",
    "Inspect the code below.\n",
    "\n",
    "### Why do we care?\n",
    "\n",
    "It turns out the pipe cutting problem is (very) closely related to DP algorithms for segmentation in NLP, as we'll see in more detail below. In Assignment 5, you'll implement the CKY algorithm for parsing, which is a sort of two-sided version of pipe-cutting that allows us to produce tree structures."
   ]
  },
  {
   "cell_type": "code",
   "execution_count": 8,
   "metadata": {
    "scrolled": false
   },
   "outputs": [
    {
     "name": "stdout",
     "output_type": "stream",
     "text": [
      "****************************************** k= 0 ******************************************\n",
      "\n",
      "\n",
      "**** PIPE OPTIMIZED CUT LENGTH LIST ****\n",
      "Optimal Pipe Length =  0\n",
      "****************************************** k= 0 ******************************************\n",
      "\n",
      "\n",
      "****************************************** k= 1 ******************************************\n",
      "0 , 1 , profit_on_left_most[j]= 0.0 , score(j, k)= -3.4 , new total profit -3.4\n",
      "\n",
      "\n",
      "**** PIPE OPTIMIZED CUT LENGTH LIST ****\n",
      "Optimal Pipe Length =  1\n",
      "****************************************** k= 1 ******************************************\n",
      "\n",
      "\n",
      "****************************************** k= 2 ******************************************\n",
      "0 , 2 , profit_on_left_most[j]= 0.0 , score(j, k)= -5.7 , new total profit -5.7\n",
      "1 , 2 , profit_on_left_most[j]= -3.4 , score(j, k)= -3.4 , new total profit -6.8\n",
      "\n",
      "\n",
      "**** PIPE OPTIMIZED CUT LENGTH LIST ****\n",
      "Optimal Pipe Length =  2\n",
      "****************************************** k= 2 ******************************************\n",
      "\n",
      "\n",
      "****************************************** k= 3 ******************************************\n",
      "0 , 3 , profit_on_left_most[j]= 0.0 , score(j, k)= 17.6 , new total profit 17.6\n",
      "1 , 3 , profit_on_left_most[j]= -3.4 , score(j, k)= -5.7 , new total profit -9.1\n",
      "2 , 3 , profit_on_left_most[j]= -5.7 , score(j, k)= -3.4 , new total profit -9.1\n",
      "\n",
      "\n",
      "**** PIPE OPTIMIZED CUT LENGTH LIST ****\n",
      "Optimal Pipe Length =  3\n",
      "****************************************** k= 3 ******************************************\n",
      "\n",
      "\n",
      "****************************************** k= 4 ******************************************\n",
      "0 , 4 , profit_on_left_most[j]= 0.0 , score(j, k)= 2.2 , new total profit 2.2\n",
      "1 , 4 , profit_on_left_most[j]= -3.4 , score(j, k)= 17.6 , new total profit 14.200000000000001\n",
      "*****CUT MADE*****\n",
      "14.200000000000001 k-j= 3\n",
      "2 , 4 , profit_on_left_most[j]= -5.7 , score(j, k)= -5.7 , new total profit -11.4\n",
      "3 , 4 , profit_on_left_most[j]= 17.6 , score(j, k)= -3.4 , new total profit 14.200000000000001\n",
      "\n",
      "\n",
      "**** PIPE OPTIMIZED CUT LENGTH LIST ****\n",
      "1 \n",
      "\n",
      "3 \n",
      "\n",
      "****************************************** k= 4 ******************************************\n",
      "\n",
      "\n",
      "****************************************** k= 5 ******************************************\n",
      "0 , 5 , profit_on_left_most[j]= 0.0 , score(j, k)= 86.3 , new total profit 86.3\n",
      "1 , 5 , profit_on_left_most[j]= -3.4 , score(j, k)= 2.2 , new total profit -1.1999999999999997\n",
      "2 , 5 , profit_on_left_most[j]= -5.7 , score(j, k)= 17.6 , new total profit 11.900000000000002\n",
      "3 , 5 , profit_on_left_most[j]= 17.6 , score(j, k)= -5.7 , new total profit 11.900000000000002\n",
      "4 , 5 , profit_on_left_most[j]= 14.200000000000001 , score(j, k)= -3.4 , new total profit 10.8\n",
      "\n",
      "\n",
      "**** PIPE OPTIMIZED CUT LENGTH LIST ****\n",
      "Optimal Pipe Length =  5\n",
      "****************************************** k= 5 ******************************************\n",
      "\n",
      "\n",
      "****************************************** k= 6 ******************************************\n",
      "0 , 6 , profit_on_left_most[j]= 0.0 , score(j, k)= 0.0 , new total profit 0.0\n",
      "1 , 6 , profit_on_left_most[j]= -3.4 , score(j, k)= 86.3 , new total profit 82.89999999999999\n",
      "*****CUT MADE*****\n",
      "82.89999999999999 k-j= 5\n",
      "2 , 6 , profit_on_left_most[j]= -5.7 , score(j, k)= 2.2 , new total profit -3.5\n",
      "3 , 6 , profit_on_left_most[j]= 17.6 , score(j, k)= 17.6 , new total profit 35.2\n",
      "4 , 6 , profit_on_left_most[j]= 14.200000000000001 , score(j, k)= -5.7 , new total profit 8.5\n",
      "5 , 6 , profit_on_left_most[j]= 86.3 , score(j, k)= -3.4 , new total profit 82.89999999999999\n",
      "\n",
      "\n",
      "**** PIPE OPTIMIZED CUT LENGTH LIST ****\n",
      "1 \n",
      "\n",
      "5 \n",
      "\n",
      "****************************************** k= 6 ******************************************\n",
      "\n",
      "\n",
      "****************************************** k= 7 ******************************************\n",
      "0 , 7 , profit_on_left_most[j]= 0.0 , score(j, k)= 0.0 , new total profit 0.0\n",
      "1 , 7 , profit_on_left_most[j]= -3.4 , score(j, k)= 0.0 , new total profit -3.4\n",
      "2 , 7 , profit_on_left_most[j]= -5.7 , score(j, k)= 86.3 , new total profit 80.6\n",
      "*****CUT MADE*****\n",
      "80.6 k-j= 5\n",
      "3 , 7 , profit_on_left_most[j]= 17.6 , score(j, k)= 2.2 , new total profit 19.8\n",
      "4 , 7 , profit_on_left_most[j]= 14.200000000000001 , score(j, k)= 17.6 , new total profit 31.800000000000004\n",
      "5 , 7 , profit_on_left_most[j]= 86.3 , score(j, k)= -5.7 , new total profit 80.6\n",
      "6 , 7 , profit_on_left_most[j]= 82.89999999999999 , score(j, k)= -3.4 , new total profit 79.49999999999999\n",
      "\n",
      "\n",
      "**** PIPE OPTIMIZED CUT LENGTH LIST ****\n",
      "2 \n",
      "\n",
      "5 \n",
      "\n",
      "****************************************** k= 7 ******************************************\n",
      "\n",
      "\n",
      "****************************************** k= 8 ******************************************\n",
      "0 , 8 , profit_on_left_most[j]= 0.0 , score(j, k)= 0.0 , new total profit 0.0\n",
      "1 , 8 , profit_on_left_most[j]= -3.4 , score(j, k)= 0.0 , new total profit -3.4\n",
      "2 , 8 , profit_on_left_most[j]= -5.7 , score(j, k)= 0.0 , new total profit -5.7\n",
      "3 , 8 , profit_on_left_most[j]= 17.6 , score(j, k)= 86.3 , new total profit 103.9\n",
      "*****CUT MADE*****\n",
      "103.9 k-j= 5\n",
      "4 , 8 , profit_on_left_most[j]= 14.200000000000001 , score(j, k)= 2.2 , new total profit 16.400000000000002\n",
      "5 , 8 , profit_on_left_most[j]= 86.3 , score(j, k)= 17.6 , new total profit 103.9\n",
      "6 , 8 , profit_on_left_most[j]= 82.89999999999999 , score(j, k)= -5.7 , new total profit 77.19999999999999\n",
      "7 , 8 , profit_on_left_most[j]= 80.6 , score(j, k)= -3.4 , new total profit 77.19999999999999\n",
      "\n",
      "\n",
      "**** PIPE OPTIMIZED CUT LENGTH LIST ****\n",
      "3 \n",
      "\n",
      "5 \n",
      "\n",
      "****************************************** k= 8 ******************************************\n",
      "\n",
      "\n",
      "****************************************** k= 9 ******************************************\n",
      "0 , 9 , profit_on_left_most[j]= 0.0 , score(j, k)= 0.0 , new total profit 0.0\n",
      "1 , 9 , profit_on_left_most[j]= -3.4 , score(j, k)= 0.0 , new total profit -3.4\n",
      "2 , 9 , profit_on_left_most[j]= -5.7 , score(j, k)= 0.0 , new total profit -5.7\n",
      "3 , 9 , profit_on_left_most[j]= 17.6 , score(j, k)= 0.0 , new total profit 17.6\n",
      "*****CUT MADE*****\n",
      "17.6 k-j= 6\n",
      "4 , 9 , profit_on_left_most[j]= 14.200000000000001 , score(j, k)= 86.3 , new total profit 100.5\n",
      "*****CUT MADE*****\n",
      "100.5 k-j= 5\n",
      "5 , 9 , profit_on_left_most[j]= 86.3 , score(j, k)= 2.2 , new total profit 88.5\n",
      "6 , 9 , profit_on_left_most[j]= 82.89999999999999 , score(j, k)= 17.6 , new total profit 100.5\n",
      "7 , 9 , profit_on_left_most[j]= 80.6 , score(j, k)= -5.7 , new total profit 74.89999999999999\n",
      "8 , 9 , profit_on_left_most[j]= 103.9 , score(j, k)= -3.4 , new total profit 100.5\n",
      "\n",
      "\n",
      "**** PIPE OPTIMIZED CUT LENGTH LIST ****\n",
      "3 \n",
      "\n",
      "1 \n",
      "\n",
      "5 \n",
      "\n",
      "****************************************** k= 9 ******************************************\n",
      "\n",
      "\n",
      "100.5\n"
     ]
    }
   ],
   "source": [
    "price_list = [0.0, -3.4, -5.7, 17.6, 2.2, 86.3]\n",
    "def pipe_profit(left, right):\n",
    "    \"\"\"$ profit for the part of the bar in interval [left, right).\n",
    "   \n",
    "       Negative prices are a result of being unable to sell them\n",
    "       and having to pay for disposal.  (Actually, as we'll learn\n",
    "       later in the class, language models often produce -'ve scores,\n",
    "       so we'll want to make sure our pipe splitting algorithm is robust\n",
    "       to such scores when we use it in combination with a language model\n",
    "       below.  Don't worry, you don't need to know anything about\n",
    "       language models for this assignment.)\n",
    "    \"\"\"\n",
    "    n = right - left \n",
    "    if n < 0 or n >= len(price_list):\n",
    "        return 0.0\n",
    "    return price_list[n]\n",
    "\n",
    "# DP cache for the function below.\n",
    "def best_cuts(n, score):\n",
    "    \"\"\"Determine the optimal revenue possible by (optionally) cutting a bar\n",
    "       of length n.\n",
    "\n",
    "    Args:\n",
    "      n: the length of the pipe\n",
    "      score: a function that accepts \"left\" and \"right and gives you the score\n",
    "             (revenue) received for the segment of pipe extending the interval\n",
    "             from [left, right)\n",
    "    \n",
    "    Returns:\n",
    "      The best profit to be had for a pipe of length n.\n",
    "    \"\"\"\n",
    "        \n",
    "    profit_on_left_most = []\n",
    "    for k in range(n + 1):\n",
    "        \n",
    "        print(\"****************************************** k=\", k, \"******************************************\")\n",
    "        # What if we don't split the k-length bar at all?\n",
    "        profit_on_left_most.append(score(0, k))\n",
    "\n",
    "        # Maybe split it up.  Pick a split location at \"j\", optimally split the left\n",
    "        # hand side but keep the right hand side whole.\n",
    "        # (Answer below why this doesn't skip any options.)\n",
    "        cut_list = []\n",
    "        itr = 0\n",
    "        for j in range(k):\n",
    "            potential_profit = profit_on_left_most[j] + score(j, k)\n",
    "            print(j,\",\", k, \", profit_on_left_most[j]=\", profit_on_left_most[j], \", score(j, k)=\", score(j, k), \", new total profit\", potential_profit)\n",
    "#             print(potential_profit, \",\", profit_on_left_most[j], \",\", score(j, k))\n",
    "            if potential_profit > profit_on_left_most[k]:\n",
    "                \n",
    "                print(\"*****CUT MADE*****\")\n",
    "                profit_on_left_most[k] = potential_profit\n",
    "                print(profit_on_left_most[k], \"k-j=\", k - j)\n",
    "                cut_list.append(itr)\n",
    "                itr = 0\n",
    "            itr += 1\n",
    "                \n",
    "        print(\"\\n\")\n",
    "        print(\"**** PIPE OPTIMIZED CUT LENGTH LIST ****\")\n",
    "        \n",
    "        if len(cut_list) == 0:\n",
    "            print(\"Optimal Pipe Length = \", k)\n",
    "        else:\n",
    "            if np.asarray(cut_list).sum() == k:\n",
    "                print(\"Optimal Pipe Lengths were cut into:\", \"\\n\")\n",
    "                for i in cut_list:\n",
    "                    print(i, \"\\n\")\n",
    "            else:\n",
    "                temp_num = k - np.asarray(cut_list).sum()\n",
    "                cut_list.append(temp_num)\n",
    "                for i in cut_list:\n",
    "                    print(i, \"\\n\")    \n",
    "        print(\"****************************************** k=\", k, \"******************************************\")\n",
    "        print(\"\\n\")\n",
    "    \n",
    "#     print(profit_on_left_most)\n",
    "    return profit_on_left_most[n]\n",
    "   \n",
    "profit_on_9 = round(best_cuts(9, pipe_profit), 1)\n",
    "assert 100.5 == profit_on_9\n",
    "print(profit_on_9)\n",
    "\n",
    "# test = round(best_cuts(3, pipe_profit), 1)\n",
    "# print(i, test)"
   ]
  },
  {
   "cell_type": "markdown",
   "metadata": {},
   "source": [
    "## C. Short Answer Questions\n",
    "\n",
    "1. In the inner loop, why do we only need to try each location of a single cut (at `j`)?  Why don't we need to try cutting the bar into three or more pieces?\n",
    "\n",
    "2. Answer the question posed in the code:  Why do we not need to optimally split both sides of `j`?  In other words, why can we get away with only taking the optimal split (`profit_on_left_most`) on the left and just `score()` the right?\n",
    "\n",
    "3. Where are the cuts you should make for n=9?  Be sure to explain your work.  _(Hint:  Add a \"print\" to the code to see where you end up updating the profit made.  Leave this code in when you submit.)_"
   ]
  },
  {
   "cell_type": "markdown",
   "metadata": {},
   "source": [
    "## C. Answers\n",
    "\n",
    "1.  Since we started tracking information from initial length 1, 2, 3, ...., n we have all the information to solve the problem with only doing one cut. The reason is because we have figure out all the answers of the smaller lengths and can recursively solve the solution with one cut.\n",
    "\n",
    "    For example lets say we have a hypothetical pipe length of 99. So the way we loop through the answers we have solved the ideal cut for length 1, 2, 3, .... all the way up to 98. So once we figure out where the first cut on the length 99 pipe is, we have the solution solved. \n",
    "    \n",
    "    Hypothetical solution. First cut is made at 5. Leading to a pipe of length 5 and a pipe of length 94. We can use recursive information to solve the full solution. Now we plug in the answer we obtained from a length 5 into that and the solution we came up with for 94 into the length 5 one.\n",
    "            \n",
    "            - pipe 5 -> length 5 (i.e no cut)\n",
    "            \n",
    "            - pipe 94 -> cut into length 5 and 89\n",
    "            \n",
    "            ** now solve for 5, 89\n",
    "            \n",
    "            - pipe 89 -> cut into length 5 and 84\n",
    "            \n",
    "            ** solve ....\n",
    "            \n",
    "            ....\n",
    "            \n",
    "            - until the final solution with the recursion algorithm we chose to follow\n",
    "\n",
    "2.  We are only looking at total length of the cut pipe segments for profit maximization. There is no coupling of price difference of actual location of the cut. Since it is just total length of each pipe segment, if we were to do both sides, we would just be looping through the data over and over for no added information. Starting on one side and adding length will take into account recursive information of smaller segments and build the information up to larger and larger lengths of pipes.\n",
    "\n",
    "    Ex. ---------\n",
    "    Looking at length 4 information will require one loop:\n",
    "\n",
    "    (1) : ----|-----\n",
    "\n",
    "    However if you did it on both sides you will get information for:\n",
    "\n",
    "    start left to right\n",
    "\n",
    "    (l1) : |----|-----\n",
    "\n",
    "    (l2) : -|----|----\n",
    "\n",
    "    (l3) : --|----|---\n",
    "\n",
    "    (l4) : ---|-----|-\n",
    "\n",
    "    (l5) : ----|-----|\n",
    "\n",
    "    finish left to right\n",
    "\n",
    "    start right to left\n",
    "\n",
    "    (r1) : ----|-----|\n",
    "\n",
    "    (r2) : ---|-----|-\n",
    "\n",
    "    (r3) : --|----|---\n",
    "\n",
    "    (r4) : -|----|----\n",
    "\n",
    "    (r5) : |----|-----\n",
    "\n",
    "    end left to right\n",
    "\n",
    "    10 loops for length-4 segment information that gives you the same profit for each case for the length-4 bar. In addition, you are forced into certain pipe configurations if certain patterns are used. For example if you used (l3) or (r3) configuration then you are forced to have length-2 pipe on one side and length-3 on the other where:\n",
    "\n",
    "    length-2 pipe can be:\n",
    "    \n",
    "          1 length-2 pipe \n",
    "  \n",
    "          2 length-1 pipes\n",
    "\n",
    "    length-3 pipe can be: \n",
    "\n",
    "          1 length-3 pipe \n",
    "\n",
    "          3 length-1 pipes\n",
    "\n",
    "          1 length-1 pipe and 1 length-2 pipe\n",
    "\n",
    "    With that logic you have constrained yourself too much for the solution. In contrast if you use (1) logic then you are left with a segment length-5 which has the capability to be split up into many more configurations segment lengths in order to optimize profit based on length of pipes only.\n",
    "\n",
    "    length-5 pipe can be:\n",
    "\n",
    " 1 length-5 pipe\n",
    " 1 length-4 pipe and 1 length 1 pipe\n",
    " ....\n",
    " 5 length-1 pipes\n",
    " \n",
    " One loop for cut on left and score on right vs looping through every single branch of combinations to come up with the same answer (most optimized solution).\n",
    "     \n",
    "3.  cuts were made to make the n=9 pipe into a pipe with three segments with sizes 1, 3, and 5:\n",
    "\n",
    "        Actual cut into length 3 and length 6\n",
    "        \n",
    "            length 3 optimimal length is 3\n",
    "\n",
    "            length 6 optimal is length 5 and a length 1\n",
    "\n",
    "                    length 5 optimal length is 5\n",
    "\n",
    "                    length 1 optimal length is 1"
   ]
  },
  {
   "cell_type": "markdown",
   "metadata": {},
   "source": [
    "## Bookkeeping\n",
    "\n",
    "Great!  We know we can make over a hundred dollars cutting up our length 9 bar!\n",
    "\n",
    "Unfortunately, while we computed the revenue available by cutting the bar, we didn't actually track the cuts we need to make in order to earn it!\n",
    "\n",
    "## Coding Exercise\n",
    "**Finish modifying the code (in the cell below)** to keep track of the cuts you made in order to achieve the optimal revenue.\n",
    "\n",
    "i.e. `potential_profit[4]` might be `(39.5, [1, 2])`."
   ]
  },
  {
   "cell_type": "code",
   "execution_count": 99,
   "metadata": {
    "scrolled": true
   },
   "outputs": [
    {
     "name": "stdout",
     "output_type": "stream",
     "text": [
      "For initial pipe length: 1, cut pipe segments length (optimized): [1], for a total profit of: -3.4\n",
      "For initial pipe length: 2, cut pipe segments length (optimized): [2], for a total profit of: -5.7\n",
      "For initial pipe length: 3, cut pipe segments length (optimized): [3], for a total profit of: 17.6\n",
      "For initial pipe length: 4, cut pipe segments length (optimized): [1, 3], for a total profit of: 14.200000000000001\n",
      "For initial pipe length: 5, cut pipe segments length (optimized): [5], for a total profit of: 86.3\n",
      "For initial pipe length: 6, cut pipe segments length (optimized): [1, 5], for a total profit of: 82.89999999999999\n",
      "For initial pipe length: 7, cut pipe segments length (optimized): [2, 5], for a total profit of: 80.6\n",
      "For initial pipe length: 8, cut pipe segments length (optimized): [3, 5], for a total profit of: 103.9\n",
      "For initial pipe length: 9, cut pipe segments length (optimized): [3, 1, 5], for a total profit of: 100.5\n"
     ]
    }
   ],
   "source": [
    "price_list = [0.0, -3.4, -5.7, 17.6, 2.2, 86.3]\n",
    "def pipe_profit(left, right):\n",
    "    \"\"\"$ profit for the part of the bar in interval [left, right).\n",
    "   \n",
    "       Negative prices are a result of being unable to sell them\n",
    "       and having to pay for disposal.  (Actually, as we'll learn\n",
    "       later in the class, language models often produce -'ve scores,\n",
    "       so we'll want to make sure our pipe splitting algorithm is robust\n",
    "       to such scores when we use it in combination with a language model\n",
    "       below.  Don't worry, you don't need to know anything about\n",
    "       language models for this assignment.)\n",
    "    \"\"\"\n",
    "    n = right - left \n",
    "    if n < 0 or n >= len(price_list):\n",
    "        return 0.0\n",
    "    return price_list[n]\n",
    "\n",
    "# DP cache for the function below.\n",
    "def best_cuts(n, score):\n",
    "    \"\"\"Determine the optimal revenue possible by (optionally) cutting a bar\n",
    "       of length n.\n",
    "\n",
    "    Args:\n",
    "      n: the length of the pipe\n",
    "      score: a function that accepts \"left\" and \"right and gives you the score\n",
    "             (revenue) received for the segment of pipe extending the interval\n",
    "             from [left, right)\n",
    "    \n",
    "    Returns:\n",
    "      The best profit to be had for a pipe of length n.\n",
    "    \"\"\"\n",
    "    \n",
    "    \n",
    "    profit_on_left_most = []\n",
    "    segment_lengths_per_pipe = {}\n",
    "    for k in range(n + 1):\n",
    "#         print(\"************** \", k, \" **************\")\n",
    "        if k > 0:  \n",
    "            segment_lengths_per_pipe[k] = {}\n",
    "            segment_lengths_per_pipe[k]['pipe_segments'] = []\n",
    "            segment_lengths_per_pipe[k]['profit'] = {}\n",
    "        profit_on_left_most.append(score(0, k))\n",
    "        # Maybe split it up.  Pick a split location at \"j\", optimally split the left\n",
    "        # hand side but keep the right hand side whole.\n",
    "        # (Answer below why this doesn't skip any options.)\n",
    "        cut_list = []\n",
    "        itr = 0\n",
    "        for j in range(k):\n",
    "            potential_profit = profit_on_left_most[j] + score(j, k)\n",
    "#             print(j,\",\", k)\n",
    "            if potential_profit > profit_on_left_most[k]:\n",
    "#                 print(\"*****CUT MADE*****\")\n",
    "                if segment_lengths_per_pipe[itr] and len(segment_lengths_per_pipe[k]['pipe_segments']) <= 2:\n",
    "                    segment_lengths_per_pipe[k]['pipe_segments'].append(itr)\n",
    "                    segment_lengths_per_pipe[k]['pipe_segments'] = segment_lengths_per_pipe[k]['pipe_segments'] + segment_lengths_per_pipe[k - itr]['pipe_segments']\n",
    "                profit_on_left_most[k] = potential_profit   \n",
    "            itr += 1\n",
    "            if itr >= k and len(segment_lengths_per_pipe[k]['pipe_segments']) == 0:\n",
    "                segment_lengths_per_pipe[k]['pipe_segments'].append(k)\n",
    "#         print(\"************** \", k, \" **************\")\n",
    "        \n",
    "        if k > 0:  \n",
    "            segment_lengths_per_pipe[k]['profit'] = profit_on_left_most[k]\n",
    "        \n",
    "    \n",
    "    return segment_lengths_per_pipe\n",
    "\n",
    "        \n",
    "segment_lengths_per_pipe = best_cuts(50, pipe_profit)\n",
    "\n",
    "for i in segment_lengths_per_pipe.keys():\n",
    "    if i <= 9:\n",
    "        print(\"For initial pipe length: {}, cut pipe segments length (optimized): {}, for a total profit of: {}\".format(i, segment_lengths_per_pipe[i]['pipe_segments'], segment_lengths_per_pipe[i]['profit']))"
   ]
  },
  {
   "cell_type": "markdown",
   "metadata": {},
   "source": [
    "We'll see bookkeeping like this throughout the rest of the course.  For example, we'll want to know the optimal way to tag words in a sentence with their parts of speech.  The optimization will be over some likelihood of a particular assignment (rather than revenue).  This optimization is only useful to us however if we have a way to know what sequence of part of speech tags gave us that score, so we'll have to do this same kind of bookkeeping."
   ]
  },
  {
   "cell_type": "markdown",
   "metadata": {},
   "source": [
    "## Pipe cutting is segmentation\n",
    "The next cell implements a very light wrapper around your best_cuts_with_trace function (it just takes the cut indexes your function returns and turns them into text to pretty-print).  It also implements a simple unigram language model (much simpler than what you will build in later assignments!). \n",
    "\n",
    "Don't worry about the details here, this is just a fun coda to the assignment!  Figuring out these details will be the work of the rest of the course.\n",
    "\n",
    "Feel free to experiment with some sentences.  See if you can find at least one that breaks it, yielding a sub-optimal segmentation. If the dynamic programming algorithm is exact (finds the highest scoring split), how can it produce a bad solution?"
   ]
  },
  {
   "cell_type": "code",
   "execution_count": 100,
   "metadata": {
    "collapsed": true
   },
   "outputs": [],
   "source": [
    "import numpy as np\n",
    "\n",
    "##\n",
    "# Compute unigram counts from a simple corpus.\n",
    "unigram_counts = {}\n",
    "total_counts = 0\n",
    "for line in open('english_uni_simplified_sorted_top', encoding=\"utf8\").readlines():\n",
    "    word_and_count = line.split()\n",
    "    word = word_and_count[0].strip('\"')\n",
    "    count = int(word_and_count[1])\n",
    "    unigram_counts[word] = count\n",
    "    total_counts += count\n",
    "\n",
    "def unigram_scoring_function(text, left, right):\n",
    "    word = text[left:right]\n",
    "    if word in unigram_counts:\n",
    "        # Log probabilities, so we can add scores instead of multiplying\n",
    "        return np.log(unigram_counts[word]) - np.log(total_counts)\n",
    "    else:  \n",
    "        # \"Smoothing\", encouraging in-vocabulary, or at least short OOV words.\n",
    "        # We give a lower score to longer out-of-vocabulary spans.\n",
    "        return -100 * (right - left)\n",
    "        \n",
    "##\n",
    "# Use the pipe-cutting algorithm to segment text.\n",
    "def segment(text, segment_lengths_per_pipe):\n",
    "    # We create a scoring lambda that accepts two parameters, \"left\" and \"right\", as required by the\n",
    "    # code you implemented above.  However, we also need access to the \"text\" in order\n",
    "    # to score the unigram.  A lambda captures the local variable \"text\" for this purpose.\n",
    "    score_func = lambda left, right: unigram_scoring_function(text, left, right)\n",
    "    \n",
    "    # Call your function to slice the string.\n",
    "#     score, cuts = best_cuts_with_trace(len(text), score_func)\n",
    "\n",
    "    cuts = segment_lengths_per_pipe[len(text)]['pipe_segments']\n",
    "    score = segment_lengths_per_pipe[len(text)] ['profit']\n",
    "    \n",
    "    # Imply a \"cut\" at the start and end of the text so that the list comprehension below is convenient.\n",
    "    itr = 0\n",
    "    for i in cuts:\n",
    "        if itr != 0:\n",
    "            cuts[itr] = cuts[itr] + cuts[itr - 1]\n",
    "        itr += 1\n",
    "    if cuts[0] != 0:\n",
    "        cuts.insert(0, 0)            \n",
    "    \n",
    "    print(cuts)\n",
    "    str_out = list(filter(None, [text[cuts[i] : cuts[i + 1]] for i in range(len(cuts) - 1)]))\n",
    "    \n",
    "    # Convert the list of cuts into a list of words.\n",
    "    return score, str_out"
   ]
  },
  {
   "cell_type": "code",
   "execution_count": 102,
   "metadata": {},
   "outputs": [
    {
     "name": "stdout",
     "output_type": "stream",
     "text": [
      "[0, 3, 9, 18, 30, 44, 63]\n"
     ]
    },
    {
     "data": {
      "text/plain": [
       "(273.1, ['hel', 'loworl', 'dhowareyo', 'u'])"
      ]
     },
     "execution_count": 102,
     "metadata": {},
     "output_type": "execute_result"
    }
   ],
   "source": [
    "segment('helloworldhowareyou', segment_lengths_per_pipe)"
   ]
  },
  {
   "cell_type": "code",
   "execution_count": 103,
   "metadata": {
    "scrolled": true
   },
   "outputs": [
    {
     "name": "stdout",
     "output_type": "stream",
     "text": [
      "[0, 3, 6, 7, 12]\n"
     ]
    },
    {
     "data": {
      "text/plain": [
       "(166.9, ['dow', 'nby', 't', 'hebay'])"
      ]
     },
     "execution_count": 103,
     "metadata": {},
     "output_type": "execute_result"
    }
   ],
   "source": [
    "segment('downbythebay', segment_lengths_per_pipe)"
   ]
  },
  {
   "cell_type": "code",
   "execution_count": 104,
   "metadata": {
    "scrolled": true
   },
   "outputs": [
    {
     "name": "stdout",
     "output_type": "stream",
     "text": [
      "[0, 3, 6, 9, 12, 15, 18, 21, 24, 27, 30, 33, 36, 39, 40, 45]\n"
     ]
    },
    {
     "data": {
      "text/plain": [
       "(776.6999999999998,\n",
       " ['wik',\n",
       "  'ipe',\n",
       "  'dia',\n",
       "  'isa',\n",
       "  'rea',\n",
       "  'lly',\n",
       "  'str',\n",
       "  'ong',\n",
       "  'res',\n",
       "  'our',\n",
       "  'ceo',\n",
       "  'nth',\n",
       "  'ein',\n",
       "  't',\n",
       "  'ernet'])"
      ]
     },
     "execution_count": 104,
     "metadata": {},
     "output_type": "execute_result"
    }
   ],
   "source": [
    "segment('wikipediaisareallystrongresourceontheinternet', segment_lengths_per_pipe)"
   ]
  },
  {
   "cell_type": "markdown",
   "metadata": {},
   "source": [
    "## Congratulations!\n",
    "\n",
    "You're done with Dynamic Programming.\n",
    "\n",
    "There is a completely optional section that shouldn't take very long, if you're keen to learn about edit distance.  We won't delve into much detail about this anywhere else in the class."
   ]
  },
  {
   "cell_type": "markdown",
   "metadata": {},
   "source": [
    "## (Optional) String edit distance\n",
    "\n",
    "Another classic DP problem in the NLP space - but not one we otherwise will talk about in the course is the idea of \"[edit distance](https://en.wikipedia.org/wiki/Levenshtein_distance)\".  It's a way of measuring how many \"edits\" to one string you need to make in order to turn it into another.\n",
    "\n",
    "We've provided two implementations below for you to play with.\n",
    "\n",
    "1.  **levenshtein_cache:** The \"cache everything in a dict\" approach is first.  The keys are coordinates into a table that is len(str1) x len(str2) in size.\n",
    "\n",
    "2.  **levenshtein_explicit:** Similar to the version of ways(n) that only keeps the previous two values at hand, the explicit ordering approach only keeps the immediately previous row of the table while building the next. Setting the verbose flag to this version prints each row of the table out as it computes it."
   ]
  },
  {
   "cell_type": "markdown",
   "metadata": {},
   "source": [
    "## D. (Optional) Short Answer Questions:\n",
    "\n",
    "Give brief answers to the following in the cell below.\n",
    "\n",
    "1. Let `n = len(str1)` and `m = len(str2)`. In terms of `n` and `m`, what is the size of the DP table (cache) for computing Levenshtein distance? _Hint: how many valid keys are there? Do we use all of them?_\n",
    "<p>\n",
    "2. Based on your answer to 1., what is the running time (in Big-O notation) of the edit distance algorithm? _Hint: it takes $O(1)$ work at each step, assuming we have the needed cache entries._\n",
    "<p>\n",
    "\n",
    "3. Consider transpositions (as mentioned in section 5.6 of the async), such as `xy` -> `yx`. How can we compose a transposition from insertions, deletions, and substitutions? What is the edit distance between `wxyz` and `wyxz`?\n",
    "<p>\n",
    "\n",
    "4. Suppose we wanted to handle transpositions directly, rather than allowing our algorithm to compose them from other operations. (This might be useful if we want to score them differently.) If we have for the other operations:\n",
    "```python\n",
    "_ed(i - 1, j) + 1  # insertion\n",
    "_ed(i, j - 1) + 1  # deletion\n",
    "_ed(i - 1, j - 1) + substitution  # substitution, free if letters match  \n",
    "```\n",
    "what line would we add (calling `_ed`) to handle a transposition? (You may want to define a variable `transposition_match` to check that a transposition makes sense at the current position.) Based on your answer to 1. and 2., does this change the Big-O runtime of the algorithm?"
   ]
  },
  {
   "cell_type": "markdown",
   "metadata": {},
   "source": [
    "## D. Answers (optional)\n",
    "\n",
    "1. _Your answer here!_\n",
    "2. _Your answer here!_\n",
    "3. _Your answer here!_\n",
    "4. _Your answer here!_"
   ]
  },
  {
   "cell_type": "code",
   "execution_count": 7,
   "metadata": {
    "collapsed": true
   },
   "outputs": [],
   "source": [
    "def levenshtein_cache(str1, str2):\n",
    "    cache = dict()\n",
    "    def _ed(i, j):\n",
    "        \"\"\"Recursive helper, using cache.\"\"\"\n",
    "        if (i,j) in cache: \n",
    "            return cache[(i,j)]\n",
    "        \n",
    "        # Base cases\n",
    "        if i == 0:\n",
    "            result = j\n",
    "        elif j == 0:\n",
    "            result = i\n",
    "            \n",
    "        # Main recursion\n",
    "        else:\n",
    "            # 1 if letters differ (substitution is free if the letters are the same)\n",
    "            substitution = 0 if str1[i - 1] == str2[j - 1] else 1\n",
    "            result = min([\n",
    "                    _ed(i - 1, j) + 1,  # insertion\n",
    "                    _ed(i, j - 1) + 1,  # deletion\n",
    "                    _ed(i - 1, j - 1) + substitution  # substitution, free if letters match  \n",
    "            ])\n",
    "        cache[(i,j)] = result\n",
    "        return result\n",
    "    \n",
    "    return _ed(len(str1), len(str2))"
   ]
  },
  {
   "cell_type": "code",
   "execution_count": 8,
   "metadata": {
    "collapsed": true
   },
   "outputs": [],
   "source": [
    "def levenshtein_explicit(str1, str2, verbose=False):\n",
    "    prev_num_edits = range(len(str1) + 1)\n",
    "    for j in range(1, len(str2) + 1):\n",
    "        num_edits = [prev_num_edits[0] + 1]\n",
    "        for i in range(1, len(str1) + 1):\n",
    "            # 1 if letters differ (substitution is free if the letters are the same)\n",
    "            substitution = 0 if str1[i - 1] == str2[j - 1] else 1\n",
    "            result = min([num_edits[i - 1] + 1,\n",
    "                          prev_num_edits[i] + 1,\n",
    "                          prev_num_edits[i - 1] + substitution\n",
    "            ])\n",
    "            num_edits.append(result)\n",
    "        if verbose:\n",
    "            print(prev_num_edits)\n",
    "        prev_num_edits = num_edits\n",
    "    if verbose:\n",
    "        print(prev_num_edits)\n",
    "    return prev_num_edits[len(str1)]"
   ]
  },
  {
   "cell_type": "code",
   "execution_count": 9,
   "metadata": {
    "collapsed": true
   },
   "outputs": [],
   "source": [
    "# Substitution.\n",
    "levenshtein_explicit('abc', 'dbc', verbose=True)"
   ]
  },
  {
   "cell_type": "code",
   "execution_count": 10,
   "metadata": {
    "collapsed": true
   },
   "outputs": [],
   "source": [
    "# Deletion.\n",
    "levenshtein_explicit('abc', 'ac')"
   ]
  },
  {
   "cell_type": "code",
   "execution_count": 11,
   "metadata": {
    "collapsed": true
   },
   "outputs": [],
   "source": [
    "# Insertion.\n",
    "levenshtein_explicit('ac', 'abc')"
   ]
  },
  {
   "cell_type": "code",
   "execution_count": 12,
   "metadata": {
    "collapsed": true
   },
   "outputs": [],
   "source": [
    "# All of the above.\n",
    "levenshtein_cache('kitten', 'sitting')"
   ]
  },
  {
   "cell_type": "code",
   "execution_count": 13,
   "metadata": {
    "collapsed": true
   },
   "outputs": [],
   "source": [
    "# Fun!\n",
    "levenshtein_cache('w266 class', 'with 6 classic tricks')"
   ]
  },
  {
   "cell_type": "code",
   "execution_count": null,
   "metadata": {
    "collapsed": true
   },
   "outputs": [],
   "source": []
  }
 ],
 "metadata": {
  "anaconda-cloud": {},
  "kernelspec": {
   "display_name": "Python 3",
   "language": "python",
   "name": "python3"
  },
  "language_info": {
   "codemirror_mode": {
    "name": "ipython",
    "version": 3
   },
   "file_extension": ".py",
   "mimetype": "text/x-python",
   "name": "python",
   "nbconvert_exporter": "python",
   "pygments_lexer": "ipython3",
   "version": "3.6.2"
  }
 },
 "nbformat": 4,
 "nbformat_minor": 2
}
